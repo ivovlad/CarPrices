{
 "cells": [
  {
   "cell_type": "markdown",
   "metadata": {
    "collapsed": true
   },
   "source": [
    "# Guided Project: Predicting Car Prices"
   ]
  },
  {
   "cell_type": "markdown",
   "metadata": {},
   "source": [
    "## Introduction To The Data Set"
   ]
  },
  {
   "cell_type": "code",
   "execution_count": 1,
   "metadata": {
    "collapsed": false
   },
   "outputs": [],
   "source": [
    "import pandas as pd\n",
    "import numpy as np\n",
    "cols = ['symboling', 'normalized-losses', 'make', 'fuel-type', 'aspiration', 'num-of-doors', 'body-style', \n",
    "        'drive-wheels', 'engine-location', 'wheel-base', 'length', 'width', 'height', 'curb-weight', 'engine-type', \n",
    "        'num-of-cylinders', 'engine-size', 'fuel-system', 'bore', 'stroke', 'compression-rate', 'horsepower', 'peak-rpm', 'city-mpg', 'highway-mpg', 'price']\n",
    "cars = pd.read_csv('imports-85.data', names = cols)"
   ]
  },
  {
   "cell_type": "code",
   "execution_count": 2,
   "metadata": {
    "collapsed": false
   },
   "outputs": [
    {
     "data": {
      "text/html": [
       "<div>\n",
       "<style scoped>\n",
       "    .dataframe tbody tr th:only-of-type {\n",
       "        vertical-align: middle;\n",
       "    }\n",
       "\n",
       "    .dataframe tbody tr th {\n",
       "        vertical-align: top;\n",
       "    }\n",
       "\n",
       "    .dataframe thead th {\n",
       "        text-align: right;\n",
       "    }\n",
       "</style>\n",
       "<table border=\"1\" class=\"dataframe\">\n",
       "  <thead>\n",
       "    <tr style=\"text-align: right;\">\n",
       "      <th></th>\n",
       "      <th>symboling</th>\n",
       "      <th>normalized-losses</th>\n",
       "      <th>make</th>\n",
       "      <th>fuel-type</th>\n",
       "      <th>aspiration</th>\n",
       "      <th>num-of-doors</th>\n",
       "      <th>body-style</th>\n",
       "      <th>drive-wheels</th>\n",
       "      <th>engine-location</th>\n",
       "      <th>wheel-base</th>\n",
       "      <th>...</th>\n",
       "      <th>engine-size</th>\n",
       "      <th>fuel-system</th>\n",
       "      <th>bore</th>\n",
       "      <th>stroke</th>\n",
       "      <th>compression-rate</th>\n",
       "      <th>horsepower</th>\n",
       "      <th>peak-rpm</th>\n",
       "      <th>city-mpg</th>\n",
       "      <th>highway-mpg</th>\n",
       "      <th>price</th>\n",
       "    </tr>\n",
       "  </thead>\n",
       "  <tbody>\n",
       "    <tr>\n",
       "      <th>0</th>\n",
       "      <td>3</td>\n",
       "      <td>?</td>\n",
       "      <td>alfa-romero</td>\n",
       "      <td>gas</td>\n",
       "      <td>std</td>\n",
       "      <td>two</td>\n",
       "      <td>convertible</td>\n",
       "      <td>rwd</td>\n",
       "      <td>front</td>\n",
       "      <td>88.6</td>\n",
       "      <td>...</td>\n",
       "      <td>130</td>\n",
       "      <td>mpfi</td>\n",
       "      <td>3.47</td>\n",
       "      <td>2.68</td>\n",
       "      <td>9.0</td>\n",
       "      <td>111</td>\n",
       "      <td>5000</td>\n",
       "      <td>21</td>\n",
       "      <td>27</td>\n",
       "      <td>13495</td>\n",
       "    </tr>\n",
       "    <tr>\n",
       "      <th>1</th>\n",
       "      <td>3</td>\n",
       "      <td>?</td>\n",
       "      <td>alfa-romero</td>\n",
       "      <td>gas</td>\n",
       "      <td>std</td>\n",
       "      <td>two</td>\n",
       "      <td>convertible</td>\n",
       "      <td>rwd</td>\n",
       "      <td>front</td>\n",
       "      <td>88.6</td>\n",
       "      <td>...</td>\n",
       "      <td>130</td>\n",
       "      <td>mpfi</td>\n",
       "      <td>3.47</td>\n",
       "      <td>2.68</td>\n",
       "      <td>9.0</td>\n",
       "      <td>111</td>\n",
       "      <td>5000</td>\n",
       "      <td>21</td>\n",
       "      <td>27</td>\n",
       "      <td>16500</td>\n",
       "    </tr>\n",
       "    <tr>\n",
       "      <th>2</th>\n",
       "      <td>1</td>\n",
       "      <td>?</td>\n",
       "      <td>alfa-romero</td>\n",
       "      <td>gas</td>\n",
       "      <td>std</td>\n",
       "      <td>two</td>\n",
       "      <td>hatchback</td>\n",
       "      <td>rwd</td>\n",
       "      <td>front</td>\n",
       "      <td>94.5</td>\n",
       "      <td>...</td>\n",
       "      <td>152</td>\n",
       "      <td>mpfi</td>\n",
       "      <td>2.68</td>\n",
       "      <td>3.47</td>\n",
       "      <td>9.0</td>\n",
       "      <td>154</td>\n",
       "      <td>5000</td>\n",
       "      <td>19</td>\n",
       "      <td>26</td>\n",
       "      <td>16500</td>\n",
       "    </tr>\n",
       "    <tr>\n",
       "      <th>3</th>\n",
       "      <td>2</td>\n",
       "      <td>164</td>\n",
       "      <td>audi</td>\n",
       "      <td>gas</td>\n",
       "      <td>std</td>\n",
       "      <td>four</td>\n",
       "      <td>sedan</td>\n",
       "      <td>fwd</td>\n",
       "      <td>front</td>\n",
       "      <td>99.8</td>\n",
       "      <td>...</td>\n",
       "      <td>109</td>\n",
       "      <td>mpfi</td>\n",
       "      <td>3.19</td>\n",
       "      <td>3.40</td>\n",
       "      <td>10.0</td>\n",
       "      <td>102</td>\n",
       "      <td>5500</td>\n",
       "      <td>24</td>\n",
       "      <td>30</td>\n",
       "      <td>13950</td>\n",
       "    </tr>\n",
       "    <tr>\n",
       "      <th>4</th>\n",
       "      <td>2</td>\n",
       "      <td>164</td>\n",
       "      <td>audi</td>\n",
       "      <td>gas</td>\n",
       "      <td>std</td>\n",
       "      <td>four</td>\n",
       "      <td>sedan</td>\n",
       "      <td>4wd</td>\n",
       "      <td>front</td>\n",
       "      <td>99.4</td>\n",
       "      <td>...</td>\n",
       "      <td>136</td>\n",
       "      <td>mpfi</td>\n",
       "      <td>3.19</td>\n",
       "      <td>3.40</td>\n",
       "      <td>8.0</td>\n",
       "      <td>115</td>\n",
       "      <td>5500</td>\n",
       "      <td>18</td>\n",
       "      <td>22</td>\n",
       "      <td>17450</td>\n",
       "    </tr>\n",
       "  </tbody>\n",
       "</table>\n",
       "<p>5 rows × 26 columns</p>\n",
       "</div>"
      ],
      "text/plain": [
       "   symboling normalized-losses         make fuel-type aspiration num-of-doors  \\\n",
       "0          3                 ?  alfa-romero       gas        std          two   \n",
       "1          3                 ?  alfa-romero       gas        std          two   \n",
       "2          1                 ?  alfa-romero       gas        std          two   \n",
       "3          2               164         audi       gas        std         four   \n",
       "4          2               164         audi       gas        std         four   \n",
       "\n",
       "    body-style drive-wheels engine-location  wheel-base  ...    engine-size  \\\n",
       "0  convertible          rwd           front        88.6  ...            130   \n",
       "1  convertible          rwd           front        88.6  ...            130   \n",
       "2    hatchback          rwd           front        94.5  ...            152   \n",
       "3        sedan          fwd           front        99.8  ...            109   \n",
       "4        sedan          4wd           front        99.4  ...            136   \n",
       "\n",
       "   fuel-system  bore  stroke compression-rate horsepower  peak-rpm city-mpg  \\\n",
       "0         mpfi  3.47    2.68              9.0        111      5000       21   \n",
       "1         mpfi  3.47    2.68              9.0        111      5000       21   \n",
       "2         mpfi  2.68    3.47              9.0        154      5000       19   \n",
       "3         mpfi  3.19    3.40             10.0        102      5500       24   \n",
       "4         mpfi  3.19    3.40              8.0        115      5500       18   \n",
       "\n",
       "  highway-mpg  price  \n",
       "0          27  13495  \n",
       "1          27  16500  \n",
       "2          26  16500  \n",
       "3          30  13950  \n",
       "4          22  17450  \n",
       "\n",
       "[5 rows x 26 columns]"
      ]
     },
     "execution_count": 2,
     "metadata": {},
     "output_type": "execute_result"
    }
   ],
   "source": [
    "cars.head()"
   ]
  },
  {
   "cell_type": "code",
   "execution_count": 3,
   "metadata": {
    "collapsed": true
   },
   "outputs": [],
   "source": [
    "# Select only the columns with continuous values from - https://archive.ics.uci.edu/ml/machine-learning-databases/autos/imports-85.names\n",
    "continuous_values_cols = ['normalized-losses', 'wheel-base', 'length', 'width', 'height', 'curb-weight', 'engine-size', 'bore', 'stroke', 'compression-rate', 'horsepower', 'peak-rpm', 'city-mpg', 'highway-mpg', 'price']\n",
    "num_cars = cars[continuous_values_cols]"
   ]
  },
  {
   "cell_type": "code",
   "execution_count": 4,
   "metadata": {
    "collapsed": false,
    "scrolled": true
   },
   "outputs": [
    {
     "data": {
      "text/html": [
       "<div>\n",
       "<style scoped>\n",
       "    .dataframe tbody tr th:only-of-type {\n",
       "        vertical-align: middle;\n",
       "    }\n",
       "\n",
       "    .dataframe tbody tr th {\n",
       "        vertical-align: top;\n",
       "    }\n",
       "\n",
       "    .dataframe thead th {\n",
       "        text-align: right;\n",
       "    }\n",
       "</style>\n",
       "<table border=\"1\" class=\"dataframe\">\n",
       "  <thead>\n",
       "    <tr style=\"text-align: right;\">\n",
       "      <th></th>\n",
       "      <th>normalized-losses</th>\n",
       "      <th>wheel-base</th>\n",
       "      <th>length</th>\n",
       "      <th>width</th>\n",
       "      <th>height</th>\n",
       "      <th>curb-weight</th>\n",
       "      <th>engine-size</th>\n",
       "      <th>bore</th>\n",
       "      <th>stroke</th>\n",
       "      <th>compression-rate</th>\n",
       "      <th>horsepower</th>\n",
       "      <th>peak-rpm</th>\n",
       "      <th>city-mpg</th>\n",
       "      <th>highway-mpg</th>\n",
       "      <th>price</th>\n",
       "    </tr>\n",
       "  </thead>\n",
       "  <tbody>\n",
       "    <tr>\n",
       "      <th>0</th>\n",
       "      <td>?</td>\n",
       "      <td>88.6</td>\n",
       "      <td>168.8</td>\n",
       "      <td>64.1</td>\n",
       "      <td>48.8</td>\n",
       "      <td>2548</td>\n",
       "      <td>130</td>\n",
       "      <td>3.47</td>\n",
       "      <td>2.68</td>\n",
       "      <td>9.0</td>\n",
       "      <td>111</td>\n",
       "      <td>5000</td>\n",
       "      <td>21</td>\n",
       "      <td>27</td>\n",
       "      <td>13495</td>\n",
       "    </tr>\n",
       "    <tr>\n",
       "      <th>1</th>\n",
       "      <td>?</td>\n",
       "      <td>88.6</td>\n",
       "      <td>168.8</td>\n",
       "      <td>64.1</td>\n",
       "      <td>48.8</td>\n",
       "      <td>2548</td>\n",
       "      <td>130</td>\n",
       "      <td>3.47</td>\n",
       "      <td>2.68</td>\n",
       "      <td>9.0</td>\n",
       "      <td>111</td>\n",
       "      <td>5000</td>\n",
       "      <td>21</td>\n",
       "      <td>27</td>\n",
       "      <td>16500</td>\n",
       "    </tr>\n",
       "    <tr>\n",
       "      <th>2</th>\n",
       "      <td>?</td>\n",
       "      <td>94.5</td>\n",
       "      <td>171.2</td>\n",
       "      <td>65.5</td>\n",
       "      <td>52.4</td>\n",
       "      <td>2823</td>\n",
       "      <td>152</td>\n",
       "      <td>2.68</td>\n",
       "      <td>3.47</td>\n",
       "      <td>9.0</td>\n",
       "      <td>154</td>\n",
       "      <td>5000</td>\n",
       "      <td>19</td>\n",
       "      <td>26</td>\n",
       "      <td>16500</td>\n",
       "    </tr>\n",
       "    <tr>\n",
       "      <th>3</th>\n",
       "      <td>164</td>\n",
       "      <td>99.8</td>\n",
       "      <td>176.6</td>\n",
       "      <td>66.2</td>\n",
       "      <td>54.3</td>\n",
       "      <td>2337</td>\n",
       "      <td>109</td>\n",
       "      <td>3.19</td>\n",
       "      <td>3.40</td>\n",
       "      <td>10.0</td>\n",
       "      <td>102</td>\n",
       "      <td>5500</td>\n",
       "      <td>24</td>\n",
       "      <td>30</td>\n",
       "      <td>13950</td>\n",
       "    </tr>\n",
       "    <tr>\n",
       "      <th>4</th>\n",
       "      <td>164</td>\n",
       "      <td>99.4</td>\n",
       "      <td>176.6</td>\n",
       "      <td>66.4</td>\n",
       "      <td>54.3</td>\n",
       "      <td>2824</td>\n",
       "      <td>136</td>\n",
       "      <td>3.19</td>\n",
       "      <td>3.40</td>\n",
       "      <td>8.0</td>\n",
       "      <td>115</td>\n",
       "      <td>5500</td>\n",
       "      <td>18</td>\n",
       "      <td>22</td>\n",
       "      <td>17450</td>\n",
       "    </tr>\n",
       "  </tbody>\n",
       "</table>\n",
       "</div>"
      ],
      "text/plain": [
       "  normalized-losses  wheel-base  length  width  height  curb-weight  \\\n",
       "0                 ?        88.6   168.8   64.1    48.8         2548   \n",
       "1                 ?        88.6   168.8   64.1    48.8         2548   \n",
       "2                 ?        94.5   171.2   65.5    52.4         2823   \n",
       "3               164        99.8   176.6   66.2    54.3         2337   \n",
       "4               164        99.4   176.6   66.4    54.3         2824   \n",
       "\n",
       "   engine-size  bore stroke  compression-rate horsepower peak-rpm  city-mpg  \\\n",
       "0          130  3.47   2.68               9.0        111     5000        21   \n",
       "1          130  3.47   2.68               9.0        111     5000        21   \n",
       "2          152  2.68   3.47               9.0        154     5000        19   \n",
       "3          109  3.19   3.40              10.0        102     5500        24   \n",
       "4          136  3.19   3.40               8.0        115     5500        18   \n",
       "\n",
       "   highway-mpg  price  \n",
       "0           27  13495  \n",
       "1           27  16500  \n",
       "2           26  16500  \n",
       "3           30  13950  \n",
       "4           22  17450  "
      ]
     },
     "execution_count": 4,
     "metadata": {},
     "output_type": "execute_result"
    }
   ],
   "source": [
    "num_cars.head()"
   ]
  },
  {
   "cell_type": "code",
   "execution_count": 5,
   "metadata": {
    "collapsed": false
   },
   "outputs": [
    {
     "data": {
      "text/plain": [
       "(205, 15)"
      ]
     },
     "execution_count": 5,
     "metadata": {},
     "output_type": "execute_result"
    }
   ],
   "source": [
    "num_cars.shape"
   ]
  },
  {
   "cell_type": "markdown",
   "metadata": {},
   "source": [
    "## Data Cleaning"
   ]
  },
  {
   "cell_type": "code",
   "execution_count": 6,
   "metadata": {
    "collapsed": false
   },
   "outputs": [],
   "source": [
    "# from numpy import nan\n",
    "num_cars = num_cars.replace('?', np.nan)"
   ]
  },
  {
   "cell_type": "code",
   "execution_count": 7,
   "metadata": {
    "collapsed": false
   },
   "outputs": [
    {
     "data": {
      "text/html": [
       "<div>\n",
       "<style scoped>\n",
       "    .dataframe tbody tr th:only-of-type {\n",
       "        vertical-align: middle;\n",
       "    }\n",
       "\n",
       "    .dataframe tbody tr th {\n",
       "        vertical-align: top;\n",
       "    }\n",
       "\n",
       "    .dataframe thead th {\n",
       "        text-align: right;\n",
       "    }\n",
       "</style>\n",
       "<table border=\"1\" class=\"dataframe\">\n",
       "  <thead>\n",
       "    <tr style=\"text-align: right;\">\n",
       "      <th></th>\n",
       "      <th>normalized-losses</th>\n",
       "      <th>wheel-base</th>\n",
       "      <th>length</th>\n",
       "      <th>width</th>\n",
       "      <th>height</th>\n",
       "      <th>curb-weight</th>\n",
       "      <th>engine-size</th>\n",
       "      <th>bore</th>\n",
       "      <th>stroke</th>\n",
       "      <th>compression-rate</th>\n",
       "      <th>horsepower</th>\n",
       "      <th>peak-rpm</th>\n",
       "      <th>city-mpg</th>\n",
       "      <th>highway-mpg</th>\n",
       "      <th>price</th>\n",
       "    </tr>\n",
       "  </thead>\n",
       "  <tbody>\n",
       "    <tr>\n",
       "      <th>0</th>\n",
       "      <td>NaN</td>\n",
       "      <td>88.6</td>\n",
       "      <td>168.8</td>\n",
       "      <td>64.1</td>\n",
       "      <td>48.8</td>\n",
       "      <td>2548</td>\n",
       "      <td>130</td>\n",
       "      <td>3.47</td>\n",
       "      <td>2.68</td>\n",
       "      <td>9.0</td>\n",
       "      <td>111</td>\n",
       "      <td>5000</td>\n",
       "      <td>21</td>\n",
       "      <td>27</td>\n",
       "      <td>13495</td>\n",
       "    </tr>\n",
       "    <tr>\n",
       "      <th>1</th>\n",
       "      <td>NaN</td>\n",
       "      <td>88.6</td>\n",
       "      <td>168.8</td>\n",
       "      <td>64.1</td>\n",
       "      <td>48.8</td>\n",
       "      <td>2548</td>\n",
       "      <td>130</td>\n",
       "      <td>3.47</td>\n",
       "      <td>2.68</td>\n",
       "      <td>9.0</td>\n",
       "      <td>111</td>\n",
       "      <td>5000</td>\n",
       "      <td>21</td>\n",
       "      <td>27</td>\n",
       "      <td>16500</td>\n",
       "    </tr>\n",
       "    <tr>\n",
       "      <th>2</th>\n",
       "      <td>NaN</td>\n",
       "      <td>94.5</td>\n",
       "      <td>171.2</td>\n",
       "      <td>65.5</td>\n",
       "      <td>52.4</td>\n",
       "      <td>2823</td>\n",
       "      <td>152</td>\n",
       "      <td>2.68</td>\n",
       "      <td>3.47</td>\n",
       "      <td>9.0</td>\n",
       "      <td>154</td>\n",
       "      <td>5000</td>\n",
       "      <td>19</td>\n",
       "      <td>26</td>\n",
       "      <td>16500</td>\n",
       "    </tr>\n",
       "    <tr>\n",
       "      <th>3</th>\n",
       "      <td>164</td>\n",
       "      <td>99.8</td>\n",
       "      <td>176.6</td>\n",
       "      <td>66.2</td>\n",
       "      <td>54.3</td>\n",
       "      <td>2337</td>\n",
       "      <td>109</td>\n",
       "      <td>3.19</td>\n",
       "      <td>3.40</td>\n",
       "      <td>10.0</td>\n",
       "      <td>102</td>\n",
       "      <td>5500</td>\n",
       "      <td>24</td>\n",
       "      <td>30</td>\n",
       "      <td>13950</td>\n",
       "    </tr>\n",
       "    <tr>\n",
       "      <th>4</th>\n",
       "      <td>164</td>\n",
       "      <td>99.4</td>\n",
       "      <td>176.6</td>\n",
       "      <td>66.4</td>\n",
       "      <td>54.3</td>\n",
       "      <td>2824</td>\n",
       "      <td>136</td>\n",
       "      <td>3.19</td>\n",
       "      <td>3.40</td>\n",
       "      <td>8.0</td>\n",
       "      <td>115</td>\n",
       "      <td>5500</td>\n",
       "      <td>18</td>\n",
       "      <td>22</td>\n",
       "      <td>17450</td>\n",
       "    </tr>\n",
       "  </tbody>\n",
       "</table>\n",
       "</div>"
      ],
      "text/plain": [
       "  normalized-losses  wheel-base  length  width  height  curb-weight  \\\n",
       "0               NaN        88.6   168.8   64.1    48.8         2548   \n",
       "1               NaN        88.6   168.8   64.1    48.8         2548   \n",
       "2               NaN        94.5   171.2   65.5    52.4         2823   \n",
       "3               164        99.8   176.6   66.2    54.3         2337   \n",
       "4               164        99.4   176.6   66.4    54.3         2824   \n",
       "\n",
       "   engine-size  bore stroke  compression-rate horsepower peak-rpm  city-mpg  \\\n",
       "0          130  3.47   2.68               9.0        111     5000        21   \n",
       "1          130  3.47   2.68               9.0        111     5000        21   \n",
       "2          152  2.68   3.47               9.0        154     5000        19   \n",
       "3          109  3.19   3.40              10.0        102     5500        24   \n",
       "4          136  3.19   3.40               8.0        115     5500        18   \n",
       "\n",
       "   highway-mpg  price  \n",
       "0           27  13495  \n",
       "1           27  16500  \n",
       "2           26  16500  \n",
       "3           30  13950  \n",
       "4           22  17450  "
      ]
     },
     "execution_count": 7,
     "metadata": {},
     "output_type": "execute_result"
    }
   ],
   "source": [
    "num_cars.head()"
   ]
  },
  {
   "cell_type": "code",
   "execution_count": 8,
   "metadata": {
    "collapsed": false
   },
   "outputs": [
    {
     "name": "stdout",
     "output_type": "stream",
     "text": [
      "<class 'pandas.core.frame.DataFrame'>\n",
      "RangeIndex: 205 entries, 0 to 204\n",
      "Data columns (total 15 columns):\n",
      "normalized-losses    164 non-null object\n",
      "wheel-base           205 non-null float64\n",
      "length               205 non-null float64\n",
      "width                205 non-null float64\n",
      "height               205 non-null float64\n",
      "curb-weight          205 non-null int64\n",
      "engine-size          205 non-null int64\n",
      "bore                 201 non-null object\n",
      "stroke               201 non-null object\n",
      "compression-rate     205 non-null float64\n",
      "horsepower           203 non-null object\n",
      "peak-rpm             203 non-null object\n",
      "city-mpg             205 non-null int64\n",
      "highway-mpg          205 non-null int64\n",
      "price                201 non-null object\n",
      "dtypes: float64(5), int64(4), object(6)\n",
      "memory usage: 24.1+ KB\n"
     ]
    }
   ],
   "source": [
    "num_cars.info()"
   ]
  },
  {
   "cell_type": "code",
   "execution_count": 9,
   "metadata": {
    "collapsed": true
   },
   "outputs": [],
   "source": [
    "dt = num_cars.dtypes"
   ]
  },
  {
   "cell_type": "markdown",
   "metadata": {},
   "source": [
    "We now convert all columns of data type 'object' into 'float'"
   ]
  },
  {
   "cell_type": "code",
   "execution_count": 10,
   "metadata": {
    "collapsed": false
   },
   "outputs": [
    {
     "name": "stdout",
     "output_type": "stream",
     "text": [
      "<class 'pandas.core.frame.DataFrame'>\n",
      "RangeIndex: 205 entries, 0 to 204\n",
      "Data columns (total 15 columns):\n",
      "normalized-losses    164 non-null float64\n",
      "wheel-base           205 non-null float64\n",
      "length               205 non-null float64\n",
      "width                205 non-null float64\n",
      "height               205 non-null float64\n",
      "curb-weight          205 non-null int64\n",
      "engine-size          205 non-null int64\n",
      "bore                 201 non-null float64\n",
      "stroke               201 non-null float64\n",
      "compression-rate     205 non-null float64\n",
      "horsepower           203 non-null float64\n",
      "peak-rpm             203 non-null float64\n",
      "city-mpg             205 non-null int64\n",
      "highway-mpg          205 non-null int64\n",
      "price                201 non-null float64\n",
      "dtypes: float64(11), int64(4)\n",
      "memory usage: 24.1 KB\n"
     ]
    }
   ],
   "source": [
    "obj_cols = list(dt.loc[dt=='object'].index)\n",
    "num_cars[obj_cols] = num_cars[obj_cols].astype('float')\n",
    "num_cars.info()"
   ]
  },
  {
   "cell_type": "markdown",
   "metadata": {},
   "source": [
    "Let's check how many records we have with 'null' values"
   ]
  },
  {
   "cell_type": "code",
   "execution_count": 11,
   "metadata": {
    "collapsed": false
   },
   "outputs": [
    {
     "data": {
      "text/plain": [
       "normalized-losses    41\n",
       "wheel-base            0\n",
       "length                0\n",
       "width                 0\n",
       "height                0\n",
       "curb-weight           0\n",
       "engine-size           0\n",
       "bore                  4\n",
       "stroke                4\n",
       "compression-rate      0\n",
       "horsepower            2\n",
       "peak-rpm              2\n",
       "city-mpg              0\n",
       "highway-mpg           0\n",
       "price                 4\n",
       "dtype: int64"
      ]
     },
     "execution_count": 11,
     "metadata": {},
     "output_type": "execute_result"
    }
   ],
   "source": [
    "num_cars.isnull().sum()"
   ]
  },
  {
   "cell_type": "markdown",
   "metadata": {},
   "source": [
    "Above we see that we have four missing prices. We'll remove these records as we are trying to predict the price. All the remaining missing values, we'll replace with the column means."
   ]
  },
  {
   "cell_type": "code",
   "execution_count": 12,
   "metadata": {
    "collapsed": false,
    "scrolled": true
   },
   "outputs": [
    {
     "data": {
      "text/html": [
       "<div>\n",
       "<style scoped>\n",
       "    .dataframe tbody tr th:only-of-type {\n",
       "        vertical-align: middle;\n",
       "    }\n",
       "\n",
       "    .dataframe tbody tr th {\n",
       "        vertical-align: top;\n",
       "    }\n",
       "\n",
       "    .dataframe thead th {\n",
       "        text-align: right;\n",
       "    }\n",
       "</style>\n",
       "<table border=\"1\" class=\"dataframe\">\n",
       "  <thead>\n",
       "    <tr style=\"text-align: right;\">\n",
       "      <th></th>\n",
       "      <th>normalized-losses</th>\n",
       "      <th>wheel-base</th>\n",
       "      <th>length</th>\n",
       "      <th>width</th>\n",
       "      <th>height</th>\n",
       "      <th>curb-weight</th>\n",
       "      <th>engine-size</th>\n",
       "      <th>bore</th>\n",
       "      <th>stroke</th>\n",
       "      <th>compression-rate</th>\n",
       "      <th>horsepower</th>\n",
       "      <th>peak-rpm</th>\n",
       "      <th>city-mpg</th>\n",
       "      <th>highway-mpg</th>\n",
       "      <th>price</th>\n",
       "    </tr>\n",
       "  </thead>\n",
       "  <tbody>\n",
       "    <tr>\n",
       "      <th>0</th>\n",
       "      <td>NaN</td>\n",
       "      <td>88.6</td>\n",
       "      <td>168.8</td>\n",
       "      <td>64.1</td>\n",
       "      <td>48.8</td>\n",
       "      <td>2548</td>\n",
       "      <td>130</td>\n",
       "      <td>3.47</td>\n",
       "      <td>2.68</td>\n",
       "      <td>9.0</td>\n",
       "      <td>111.0</td>\n",
       "      <td>5000.0</td>\n",
       "      <td>21</td>\n",
       "      <td>27</td>\n",
       "      <td>13495.0</td>\n",
       "    </tr>\n",
       "    <tr>\n",
       "      <th>1</th>\n",
       "      <td>NaN</td>\n",
       "      <td>88.6</td>\n",
       "      <td>168.8</td>\n",
       "      <td>64.1</td>\n",
       "      <td>48.8</td>\n",
       "      <td>2548</td>\n",
       "      <td>130</td>\n",
       "      <td>3.47</td>\n",
       "      <td>2.68</td>\n",
       "      <td>9.0</td>\n",
       "      <td>111.0</td>\n",
       "      <td>5000.0</td>\n",
       "      <td>21</td>\n",
       "      <td>27</td>\n",
       "      <td>16500.0</td>\n",
       "    </tr>\n",
       "    <tr>\n",
       "      <th>2</th>\n",
       "      <td>NaN</td>\n",
       "      <td>94.5</td>\n",
       "      <td>171.2</td>\n",
       "      <td>65.5</td>\n",
       "      <td>52.4</td>\n",
       "      <td>2823</td>\n",
       "      <td>152</td>\n",
       "      <td>2.68</td>\n",
       "      <td>3.47</td>\n",
       "      <td>9.0</td>\n",
       "      <td>154.0</td>\n",
       "      <td>5000.0</td>\n",
       "      <td>19</td>\n",
       "      <td>26</td>\n",
       "      <td>16500.0</td>\n",
       "    </tr>\n",
       "    <tr>\n",
       "      <th>3</th>\n",
       "      <td>164.0</td>\n",
       "      <td>99.8</td>\n",
       "      <td>176.6</td>\n",
       "      <td>66.2</td>\n",
       "      <td>54.3</td>\n",
       "      <td>2337</td>\n",
       "      <td>109</td>\n",
       "      <td>3.19</td>\n",
       "      <td>3.40</td>\n",
       "      <td>10.0</td>\n",
       "      <td>102.0</td>\n",
       "      <td>5500.0</td>\n",
       "      <td>24</td>\n",
       "      <td>30</td>\n",
       "      <td>13950.0</td>\n",
       "    </tr>\n",
       "    <tr>\n",
       "      <th>4</th>\n",
       "      <td>164.0</td>\n",
       "      <td>99.4</td>\n",
       "      <td>176.6</td>\n",
       "      <td>66.4</td>\n",
       "      <td>54.3</td>\n",
       "      <td>2824</td>\n",
       "      <td>136</td>\n",
       "      <td>3.19</td>\n",
       "      <td>3.40</td>\n",
       "      <td>8.0</td>\n",
       "      <td>115.0</td>\n",
       "      <td>5500.0</td>\n",
       "      <td>18</td>\n",
       "      <td>22</td>\n",
       "      <td>17450.0</td>\n",
       "    </tr>\n",
       "  </tbody>\n",
       "</table>\n",
       "</div>"
      ],
      "text/plain": [
       "   normalized-losses  wheel-base  length  width  height  curb-weight  \\\n",
       "0                NaN        88.6   168.8   64.1    48.8         2548   \n",
       "1                NaN        88.6   168.8   64.1    48.8         2548   \n",
       "2                NaN        94.5   171.2   65.5    52.4         2823   \n",
       "3              164.0        99.8   176.6   66.2    54.3         2337   \n",
       "4              164.0        99.4   176.6   66.4    54.3         2824   \n",
       "\n",
       "   engine-size  bore  stroke  compression-rate  horsepower  peak-rpm  \\\n",
       "0          130  3.47    2.68               9.0       111.0    5000.0   \n",
       "1          130  3.47    2.68               9.0       111.0    5000.0   \n",
       "2          152  2.68    3.47               9.0       154.0    5000.0   \n",
       "3          109  3.19    3.40              10.0       102.0    5500.0   \n",
       "4          136  3.19    3.40               8.0       115.0    5500.0   \n",
       "\n",
       "   city-mpg  highway-mpg    price  \n",
       "0        21           27  13495.0  \n",
       "1        21           27  16500.0  \n",
       "2        19           26  16500.0  \n",
       "3        24           30  13950.0  \n",
       "4        18           22  17450.0  "
      ]
     },
     "execution_count": 12,
     "metadata": {},
     "output_type": "execute_result"
    }
   ],
   "source": [
    "num_cars= num_cars.dropna(axis = 0,subset = ['price'])\n",
    "num_cars.head()"
   ]
  },
  {
   "cell_type": "code",
   "execution_count": 13,
   "metadata": {
    "collapsed": false
   },
   "outputs": [
    {
     "data": {
      "text/plain": [
       "(201, 15)"
      ]
     },
     "execution_count": 13,
     "metadata": {},
     "output_type": "execute_result"
    }
   ],
   "source": [
    "num_cars.shape"
   ]
  },
  {
   "cell_type": "code",
   "execution_count": 14,
   "metadata": {
    "collapsed": false
   },
   "outputs": [],
   "source": [
    "num_cars = num_cars.fillna(num_cars.mean())"
   ]
  },
  {
   "cell_type": "markdown",
   "metadata": {},
   "source": [
    "Check if there are any Null values left in the dataframe"
   ]
  },
  {
   "cell_type": "code",
   "execution_count": 15,
   "metadata": {
    "collapsed": false
   },
   "outputs": [
    {
     "data": {
      "text/plain": [
       "normalized-losses    0\n",
       "wheel-base           0\n",
       "length               0\n",
       "width                0\n",
       "height               0\n",
       "curb-weight          0\n",
       "engine-size          0\n",
       "bore                 0\n",
       "stroke               0\n",
       "compression-rate     0\n",
       "horsepower           0\n",
       "peak-rpm             0\n",
       "city-mpg             0\n",
       "highway-mpg          0\n",
       "price                0\n",
       "dtype: int64"
      ]
     },
     "execution_count": 15,
     "metadata": {},
     "output_type": "execute_result"
    }
   ],
   "source": [
    "num_cars.isnull().sum()"
   ]
  },
  {
   "cell_type": "markdown",
   "metadata": {},
   "source": [
    "We'll normalize the remaining numeric columns so that each one ranges from 0 to 1."
   ]
  },
  {
   "cell_type": "code",
   "execution_count": 16,
   "metadata": {
    "collapsed": true
   },
   "outputs": [],
   "source": [
    "price = num_cars['price']"
   ]
  },
  {
   "cell_type": "code",
   "execution_count": 17,
   "metadata": {
    "collapsed": true
   },
   "outputs": [],
   "source": [
    "num_cars = num_cars/num_cars.max()\n",
    "num_cars['price'] = price"
   ]
  },
  {
   "cell_type": "code",
   "execution_count": 18,
   "metadata": {
    "collapsed": false
   },
   "outputs": [
    {
     "data": {
      "text/html": [
       "<div>\n",
       "<style scoped>\n",
       "    .dataframe tbody tr th:only-of-type {\n",
       "        vertical-align: middle;\n",
       "    }\n",
       "\n",
       "    .dataframe tbody tr th {\n",
       "        vertical-align: top;\n",
       "    }\n",
       "\n",
       "    .dataframe thead th {\n",
       "        text-align: right;\n",
       "    }\n",
       "</style>\n",
       "<table border=\"1\" class=\"dataframe\">\n",
       "  <thead>\n",
       "    <tr style=\"text-align: right;\">\n",
       "      <th></th>\n",
       "      <th>normalized-losses</th>\n",
       "      <th>wheel-base</th>\n",
       "      <th>length</th>\n",
       "      <th>width</th>\n",
       "      <th>height</th>\n",
       "      <th>curb-weight</th>\n",
       "      <th>engine-size</th>\n",
       "      <th>bore</th>\n",
       "      <th>stroke</th>\n",
       "      <th>compression-rate</th>\n",
       "      <th>horsepower</th>\n",
       "      <th>peak-rpm</th>\n",
       "      <th>city-mpg</th>\n",
       "      <th>highway-mpg</th>\n",
       "      <th>price</th>\n",
       "    </tr>\n",
       "  </thead>\n",
       "  <tbody>\n",
       "    <tr>\n",
       "      <th>0</th>\n",
       "      <td>0.476562</td>\n",
       "      <td>0.732837</td>\n",
       "      <td>0.811148</td>\n",
       "      <td>0.890278</td>\n",
       "      <td>0.816054</td>\n",
       "      <td>0.626660</td>\n",
       "      <td>0.398773</td>\n",
       "      <td>0.880711</td>\n",
       "      <td>0.642686</td>\n",
       "      <td>0.391304</td>\n",
       "      <td>0.423664</td>\n",
       "      <td>0.757576</td>\n",
       "      <td>0.428571</td>\n",
       "      <td>0.500000</td>\n",
       "      <td>13495.0</td>\n",
       "    </tr>\n",
       "    <tr>\n",
       "      <th>1</th>\n",
       "      <td>0.476562</td>\n",
       "      <td>0.732837</td>\n",
       "      <td>0.811148</td>\n",
       "      <td>0.890278</td>\n",
       "      <td>0.816054</td>\n",
       "      <td>0.626660</td>\n",
       "      <td>0.398773</td>\n",
       "      <td>0.880711</td>\n",
       "      <td>0.642686</td>\n",
       "      <td>0.391304</td>\n",
       "      <td>0.423664</td>\n",
       "      <td>0.757576</td>\n",
       "      <td>0.428571</td>\n",
       "      <td>0.500000</td>\n",
       "      <td>16500.0</td>\n",
       "    </tr>\n",
       "    <tr>\n",
       "      <th>2</th>\n",
       "      <td>0.476562</td>\n",
       "      <td>0.781638</td>\n",
       "      <td>0.822681</td>\n",
       "      <td>0.909722</td>\n",
       "      <td>0.876254</td>\n",
       "      <td>0.694294</td>\n",
       "      <td>0.466258</td>\n",
       "      <td>0.680203</td>\n",
       "      <td>0.832134</td>\n",
       "      <td>0.391304</td>\n",
       "      <td>0.587786</td>\n",
       "      <td>0.757576</td>\n",
       "      <td>0.387755</td>\n",
       "      <td>0.481481</td>\n",
       "      <td>16500.0</td>\n",
       "    </tr>\n",
       "    <tr>\n",
       "      <th>3</th>\n",
       "      <td>0.640625</td>\n",
       "      <td>0.825476</td>\n",
       "      <td>0.848630</td>\n",
       "      <td>0.919444</td>\n",
       "      <td>0.908027</td>\n",
       "      <td>0.574766</td>\n",
       "      <td>0.334356</td>\n",
       "      <td>0.809645</td>\n",
       "      <td>0.815348</td>\n",
       "      <td>0.434783</td>\n",
       "      <td>0.389313</td>\n",
       "      <td>0.833333</td>\n",
       "      <td>0.489796</td>\n",
       "      <td>0.555556</td>\n",
       "      <td>13950.0</td>\n",
       "    </tr>\n",
       "    <tr>\n",
       "      <th>4</th>\n",
       "      <td>0.640625</td>\n",
       "      <td>0.822167</td>\n",
       "      <td>0.848630</td>\n",
       "      <td>0.922222</td>\n",
       "      <td>0.908027</td>\n",
       "      <td>0.694540</td>\n",
       "      <td>0.417178</td>\n",
       "      <td>0.809645</td>\n",
       "      <td>0.815348</td>\n",
       "      <td>0.347826</td>\n",
       "      <td>0.438931</td>\n",
       "      <td>0.833333</td>\n",
       "      <td>0.367347</td>\n",
       "      <td>0.407407</td>\n",
       "      <td>17450.0</td>\n",
       "    </tr>\n",
       "  </tbody>\n",
       "</table>\n",
       "</div>"
      ],
      "text/plain": [
       "   normalized-losses  wheel-base    length     width    height  curb-weight  \\\n",
       "0           0.476562    0.732837  0.811148  0.890278  0.816054     0.626660   \n",
       "1           0.476562    0.732837  0.811148  0.890278  0.816054     0.626660   \n",
       "2           0.476562    0.781638  0.822681  0.909722  0.876254     0.694294   \n",
       "3           0.640625    0.825476  0.848630  0.919444  0.908027     0.574766   \n",
       "4           0.640625    0.822167  0.848630  0.922222  0.908027     0.694540   \n",
       "\n",
       "   engine-size      bore    stroke  compression-rate  horsepower  peak-rpm  \\\n",
       "0     0.398773  0.880711  0.642686          0.391304    0.423664  0.757576   \n",
       "1     0.398773  0.880711  0.642686          0.391304    0.423664  0.757576   \n",
       "2     0.466258  0.680203  0.832134          0.391304    0.587786  0.757576   \n",
       "3     0.334356  0.809645  0.815348          0.434783    0.389313  0.833333   \n",
       "4     0.417178  0.809645  0.815348          0.347826    0.438931  0.833333   \n",
       "\n",
       "   city-mpg  highway-mpg    price  \n",
       "0  0.428571     0.500000  13495.0  \n",
       "1  0.428571     0.500000  16500.0  \n",
       "2  0.387755     0.481481  16500.0  \n",
       "3  0.489796     0.555556  13950.0  \n",
       "4  0.367347     0.407407  17450.0  "
      ]
     },
     "execution_count": 18,
     "metadata": {},
     "output_type": "execute_result"
    }
   ],
   "source": [
    "num_cars.head()"
   ]
  },
  {
   "cell_type": "markdown",
   "metadata": {},
   "source": [
    "## Univariate Model"
   ]
  },
  {
   "cell_type": "markdown",
   "metadata": {},
   "source": [
    "Next we'll create a simple function that uses the KNeighborsRegressor model to train and test predicted prices based on a single feature from our numeric data set."
   ]
  },
  {
   "cell_type": "code",
   "execution_count": 19,
   "metadata": {
    "collapsed": false
   },
   "outputs": [],
   "source": [
    "def knn_train_test(train_col, target_col, df, n_neib = 5):\n",
    "    df_rows = df.shape[0]\n",
    "    limit = int(df_rows*.75)\n",
    "    \n",
    "#     from numpy.random import permutation\n",
    "    np.random.seed(1)\n",
    "    df = df.loc[np.random.permutation(df.index)]\n",
    "    train_set = df.iloc[:limit].copy()\n",
    "    test_set = df.iloc[limit:].copy()\n",
    "    \n",
    "    from sklearn.neighbors import KNeighborsRegressor\n",
    "    from sklearn.metrics import mean_squared_error\n",
    "    knn = KNeighborsRegressor(n_neighbors = n_neib)\n",
    "    knn.fit(train_set[[train_col]], train_set[target_col])\n",
    "    pred = knn.predict(test_set[[train_col]])\n",
    "    mse = mean_squared_error(test_set[target_col], pred)\n",
    "    return mse**.5"
   ]
  },
  {
   "cell_type": "markdown",
   "metadata": {},
   "source": [
    "We are now going to use the function above to train and test univariate models for each column in our numeric data set"
   ]
  },
  {
   "cell_type": "code",
   "execution_count": 20,
   "metadata": {
    "collapsed": false
   },
   "outputs": [],
   "source": [
    "column_errors = dict()\n",
    "features = list(num_cars.columns)\n",
    "features.remove('price')\n",
    "for i in features:\n",
    "    \n",
    "    column_errors[i] = knn_train_test(i,'price',num_cars)\n"
   ]
  },
  {
   "cell_type": "code",
   "execution_count": 21,
   "metadata": {
    "collapsed": false
   },
   "outputs": [
    {
     "data": {
      "text/plain": [
       "{'bore': 6738.794882196202,\n",
       " 'city-mpg': 3691.1445879851094,\n",
       " 'compression-rate': 5958.572328216569,\n",
       " 'curb-weight': 4011.4500359082417,\n",
       " 'engine-size': 3049.6821877491616,\n",
       " 'height': 6569.708741387754,\n",
       " 'highway-mpg': 4323.5025303792845,\n",
       " 'horsepower': 4757.622330452017,\n",
       " 'length': 5268.777516281973,\n",
       " 'normalized-losses': 6254.3127642404625,\n",
       " 'peak-rpm': 6399.645878438257,\n",
       " 'stroke': 6939.6914399959405,\n",
       " 'wheel-base': 4308.008119951566,\n",
       " 'width': 4034.6504100083307}"
      ]
     },
     "execution_count": 21,
     "metadata": {},
     "output_type": "execute_result"
    }
   ],
   "source": [
    "column_errors"
   ]
  },
  {
   "cell_type": "code",
   "execution_count": 22,
   "metadata": {
    "collapsed": false,
    "scrolled": false
   },
   "outputs": [
    {
     "data": {
      "image/png": "[encoded data removed]",
      "text/plain": [
       "<matplotlib.figure.Figure at 0x7fca39ea58d0>"
      ]
     },
     "metadata": {},
     "output_type": "display_data"
    }
   ],
   "source": [
    "import matplotlib.pyplot as plt\n",
    "%matplotlib inline\n",
    "plt.bar(range(len(column_errors)), list(column_errors.values()), align='center')\n",
    "plt.xticks(range(len(column_errors)), list(column_errors.keys()), rotation = 'vertical')\n",
    "plt.show()"
   ]
  },
  {
   "cell_type": "code",
   "execution_count": 23,
   "metadata": {
    "collapsed": false
   },
   "outputs": [],
   "source": [
    "feat_dic = dict()\n",
    "\n",
    "for f in features:\n",
    "    k_dic = dict()\n",
    "    for k in range(1, 10, 2):\n",
    "        k_dic[k] = knn_train_test(train_col=f, \n",
    "                                  target_col='price', \n",
    "                                  df=num_cars, \n",
    "                                  n_neib = k)\n",
    "    feat_dic[f] = k_dic"
   ]
  },
  {
   "cell_type": "code",
   "execution_count": 24,
   "metadata": {
    "collapsed": false
   },
   "outputs": [
    {
     "data": {
      "text/plain": [
       "{'bore': {1: 8034.701162128302,\n",
       "  3: 6084.362542715404,\n",
       "  5: 6738.794882196202,\n",
       "  7: 7112.687987938562,\n",
       "  9: 7391.730482768966},\n",
       " 'city-mpg': {1: 4403.50104473479,\n",
       "  3: 4078.5076454971963,\n",
       "  5: 3691.1445879851094,\n",
       "  7: 3720.260209986931,\n",
       "  9: 4116.471940184438},\n",
       " 'compression-rate': {1: 6357.71976018286,\n",
       "  3: 5732.933869082801,\n",
       "  5: 5958.572328216569,\n",
       "  7: 5674.840084089771,\n",
       "  9: 6218.002748810658},\n",
       " 'curb-weight': {1: 3906.6625644092765,\n",
       "  3: 4156.281651639599,\n",
       "  5: 4011.4500359082417,\n",
       "  7: 3816.4436679857286,\n",
       "  9: 3913.378471567553},\n",
       " 'engine-size': {1: 3355.573890894805,\n",
       "  3: 2860.2652866131007,\n",
       "  5: 3049.6821877491616,\n",
       "  7: 3057.3096260699313,\n",
       "  9: 3002.709673639541},\n",
       " 'height': {1: 8302.179086735921,\n",
       "  3: 7020.9271504757535,\n",
       "  5: 6569.708741387754,\n",
       "  7: 6429.377899584863,\n",
       "  9: 6467.812103688369},\n",
       " 'highway-mpg': {1: 5033.224263848779,\n",
       "  3: 4465.512108855548,\n",
       "  5: 4323.5025303792845,\n",
       "  7: 3771.0748062691346,\n",
       "  9: 4085.662675555403},\n",
       " 'horsepower': {1: 3554.321250115078,\n",
       "  3: 4349.362975167784,\n",
       "  5: 4757.622330452017,\n",
       "  7: 4704.340580582921,\n",
       "  9: 4619.715440993007},\n",
       " 'length': {1: 5297.150036557764,\n",
       "  3: 5459.676227561843,\n",
       "  5: 5268.777516281973,\n",
       "  7: 4871.481368607487,\n",
       "  9: 4402.6981262459585},\n",
       " 'normalized-losses': {1: 6499.876425672999,\n",
       "  3: 6415.416300041038,\n",
       "  5: 6254.3127642404625,\n",
       "  7: 6425.129075174526,\n",
       "  9: 6488.807721815303},\n",
       " 'peak-rpm': {1: 7434.7067165278495,\n",
       "  3: 7452.9880963456635,\n",
       "  5: 6399.645878438257,\n",
       "  7: 6573.176188760149,\n",
       "  9: 6764.182795437987},\n",
       " 'stroke': {1: 10305.511168834877,\n",
       "  3: 8888.38657792322,\n",
       "  5: 6939.6914399959405,\n",
       "  7: 7280.853272752566,\n",
       "  9: 6972.035299701633},\n",
       " 'wheel-base': {1: 2740.62572288541,\n",
       "  3: 3671.7329716702634,\n",
       "  5: 4308.008119951566,\n",
       "  7: 4573.23852339201,\n",
       "  9: 4489.886687028726},\n",
       " 'width': {1: 2791.733012966368,\n",
       "  3: 4082.977865813543,\n",
       "  5: 4034.6504100083307,\n",
       "  7: 4537.7369545476595,\n",
       "  9: 4181.531838291485}}"
      ]
     },
     "execution_count": 24,
     "metadata": {},
     "output_type": "execute_result"
    }
   ],
   "source": [
    "feat_dic"
   ]
  },
  {
   "cell_type": "code",
   "execution_count": 25,
   "metadata": {
    "collapsed": false,
    "scrolled": true
   },
   "outputs": [
    {
     "data": {
      "text/plain": [
       "<matplotlib.legend.Legend at 0x7fca42700748>"
      ]
     },
     "execution_count": 25,
     "metadata": {},
     "output_type": "execute_result"
    },
    {
     "data": {
      "image/png": "[encoded data removed]",
      "text/plain": [
       "<matplotlib.figure.Figure at 0x7fca42700358>"
      ]
     },
     "metadata": {},
     "output_type": "display_data"
    }
   ],
   "source": [
    "# legend = list()\n",
    "for k, v in feat_dic.items():\n",
    "#     legend.append(k)\n",
    "    x = list(v.keys())\n",
    "    y = list(v.values())\n",
    "    \n",
    "    plt.plot(x,y, label = k)\n",
    "    plt.xlabel('k values')\n",
    "    plt.ylabel('RMSE')\n",
    "plt.legend(bbox_to_anchor=(1.05, 1), loc='upper left')\n",
    "    "
   ]
  },
  {
   "cell_type": "markdown",
   "metadata": {},
   "source": [
    "Let's see what are the average squared errors for k 1 to 9 for each feature and sort them"
   ]
  },
  {
   "cell_type": "code",
   "execution_count": 26,
   "metadata": {
    "collapsed": false
   },
   "outputs": [
    {
     "name": "stdout",
     "output_type": "stream",
     "text": [
      "engine-size          3065.108133\n",
      "width                3925.726016\n",
      "wheel-base           3956.698405\n",
      "curb-weight          3960.843278\n",
      "city-mpg             4001.977086\n",
      "highway-mpg          4335.795277\n",
      "horsepower           4397.072515\n",
      "length               5059.956655\n",
      "compression-rate     5988.413758\n",
      "normalized-losses    6416.708457\n",
      "peak-rpm             6924.939935\n",
      "height               6958.000996\n",
      "bore                 7072.455412\n",
      "stroke               8077.295552\n",
      "dtype: float64\n",
      "['engine-size', 'width', 'wheel-base', 'curb-weight', 'city-mpg', 'highway-mpg', 'horsepower', 'length', 'compression-rate', 'normalized-losses', 'peak-rpm', 'height', 'bore', 'stroke']\n"
     ]
    }
   ],
   "source": [
    "mean_errors = dict()\n",
    "for k, v in feat_dic.items():\n",
    "    mean = np.mean(list(v.values()))\n",
    "    mean_errors[k] = mean\n",
    "mean_errors_series = pd.Series(mean_errors).sort_values()\n",
    "print(mean_errors_series)\n",
    "sorted_feat = list(mean_errors_series.index)\n",
    "print(sorted_feat)"
   ]
  },
  {
   "cell_type": "code",
   "execution_count": 27,
   "metadata": {
    "collapsed": false
   },
   "outputs": [
    {
     "name": "stdout",
     "output_type": "stream",
     "text": [
      "engine-size\n",
      "width\n",
      "wheel-base\n",
      "curb-weight\n",
      "city-mpg\n",
      "highway-mpg\n",
      "horsepower\n",
      "length\n",
      "compression-rate\n",
      "normalized-losses\n",
      "peak-rpm\n",
      "height\n",
      "bore\n",
      "stroke\n"
     ]
    }
   ],
   "source": [
    "for i in sorted_feat:\n",
    "    print(i)"
   ]
  },
  {
   "cell_type": "markdown",
   "metadata": {},
   "source": [
    "## Multivariate Model"
   ]
  },
  {
   "cell_type": "code",
   "execution_count": 28,
   "metadata": {
    "collapsed": true
   },
   "outputs": [],
   "source": [
    "def multi_train_test(train_col, target_col, df, n_neib = 5):\n",
    "    df_rows = df.shape[0]\n",
    "    limit = int(df_rows*.75)\n",
    "    \n",
    "#     from numpy.random import permutation\n",
    "    np.random.seed(1)\n",
    "    df = df.loc[np.random.permutation(df.index)]\n",
    "    train_set = df.iloc[:limit].copy()\n",
    "    test_set = df.iloc[limit:].copy()\n",
    "    \n",
    "    from sklearn.neighbors import KNeighborsRegressor\n",
    "    from sklearn.metrics import mean_squared_error\n",
    "    knn = KNeighborsRegressor(n_neighbors = n_neib)\n",
    "    knn.fit(train_set[train_col], train_set[target_col])\n",
    "    pred = knn.predict(test_set[train_col])\n",
    "    mse = mean_squared_error(test_set[target_col], pred)\n",
    "    return mse"
   ]
  },
  {
   "cell_type": "code",
   "execution_count": 29,
   "metadata": {
    "collapsed": false
   },
   "outputs": [],
   "source": [
    "feature_cols = list(num_cars.columns)\n",
    "feature_cols.remove('price')\n",
    "mse_multivar = multi_train_test(feature_cols,\n",
    "                     target_col='price', \n",
    "                     df=num_cars, \n",
    "                     n_neib = 5)"
   ]
  },
  {
   "cell_type": "code",
   "execution_count": 30,
   "metadata": {
    "collapsed": false
   },
   "outputs": [
    {
     "data": {
      "text/plain": [
       "2531.0256524447427"
      ]
     },
     "execution_count": 30,
     "metadata": {},
     "output_type": "execute_result"
    }
   ],
   "source": [
    "rmse_multivar = mse_multivar**.5\n",
    "rmse_multivar"
   ]
  },
  {
   "cell_type": "markdown",
   "metadata": {},
   "source": [
    "So we found that $2531 is the squared error when using all the features in a K = 5 nearest beighbors multivariate model. \n",
    "Let's now see what would be the errors for 2,3 ...6 features using the same model with the default 5 neighbors."
   ]
  },
  {
   "cell_type": "code",
   "execution_count": 31,
   "metadata": {
    "collapsed": false
   },
   "outputs": [
    {
     "data": {
      "text/plain": [
       "{2: 2649.214448717604,\n",
       " 3: 2985.5706236864685,\n",
       " 4: 2554.4405333519458,\n",
       " 5: 2559.7656059973656,\n",
       " 6: 2729.6341599303787}"
      ]
     },
     "execution_count": 31,
     "metadata": {},
     "output_type": "execute_result"
    }
   ],
   "source": [
    "n_best_errors = dict()\n",
    "for i in range(2,7):\n",
    "    train_cols = sorted_feat[:i]\n",
    "    n_best_errors[i] = (multi_train_test(train_col = train_cols, \n",
    "                                        target_col = 'price', \n",
    "                                        df = num_cars, \n",
    "                                        n_neib = 5))**.5\n",
    "n_best_errors"
   ]
  },
  {
   "cell_type": "markdown",
   "metadata": {},
   "source": [
    "## Hyperparameter Tuning"
   ]
  },
  {
   "cell_type": "markdown",
   "metadata": {},
   "source": [
    "For the top 3 models above, we'll vary the hyperparameter value from 1 to 25 and plot the resulting RMSE values.\n",
    "We'll try to answer the following questions:\n",
    "* Which k value is optimal for each model? \n",
    "* How different are the k values and what accounts for the differences?"
   ]
  },
  {
   "cell_type": "markdown",
   "metadata": {},
   "source": [
    "We see that the top 3 models are based on the first 2, first 4 and first 5 features from the *sorted_feat* list."
   ]
  },
  {
   "cell_type": "code",
   "execution_count": 32,
   "metadata": {
    "collapsed": true
   },
   "outputs": [],
   "source": [
    "dic_all_errs = dict()\n",
    "for i in [2,4,5]:\n",
    "    dic_k_errs = dict()\n",
    "    train_cols = sorted_feat[:i]\n",
    "    for k in range(1,26):\n",
    "        rmse = (multi_train_test(train_col = train_cols, \n",
    "                                        target_col = 'price', \n",
    "                                        df = num_cars, \n",
    "                                        n_neib = k))**.5\n",
    "        dic_k_errs[k]=rmse\n",
    "    dic_all_errs['{} best features'.format(i)] = dic_k_errs"
   ]
  },
  {
   "cell_type": "code",
   "execution_count": 33,
   "metadata": {
    "collapsed": false
   },
   "outputs": [
    {
     "data": {
      "text/plain": [
       "{'2 best features': {1: 2125.189956907659,\n",
       "  2: 2261.8076884668694,\n",
       "  3: 2379.067306396776,\n",
       "  4: 2435.638943378103,\n",
       "  5: 2649.214448717604,\n",
       "  6: 2687.749664341888,\n",
       "  7: 2636.8980159381563,\n",
       "  8: 2684.2468689888547,\n",
       "  9: 2742.62616612209,\n",
       "  10: 2773.216415156617,\n",
       "  11: 2797.5144157802188,\n",
       "  12: 2787.1468589627502,\n",
       "  13: 2880.5093201544973,\n",
       "  14: 2922.803559368755,\n",
       "  15: 3022.649633108606,\n",
       "  16: 3130.289275008926,\n",
       "  17: 3188.400922250345,\n",
       "  18: 3314.0919731430545,\n",
       "  19: 3442.196230852504,\n",
       "  20: 3550.0548789185405,\n",
       "  21: 3593.79445545477,\n",
       "  22: 3676.974156716001,\n",
       "  23: 3741.0659162120687,\n",
       "  24: 3755.459727151245,\n",
       "  25: 3816.420729353001},\n",
       " '4 best features': {1: 2413.365220242164,\n",
       "  2: 2303.1264683928594,\n",
       "  3: 2197.2678846382714,\n",
       "  4: 2385.3179601120964,\n",
       "  5: 2554.4405333519458,\n",
       "  6: 2501.391926778121,\n",
       "  7: 2395.7548324665686,\n",
       "  8: 2548.6389569902276,\n",
       "  9: 2690.440614395433,\n",
       "  10: 2743.6323766203113,\n",
       "  11: 2749.054757540829,\n",
       "  12: 2759.565069700419,\n",
       "  13: 2944.5244602118983,\n",
       "  14: 3082.975156732018,\n",
       "  15: 3219.8589493051522,\n",
       "  16: 3334.929703478712,\n",
       "  17: 3410.648371537041,\n",
       "  18: 3490.612411396669,\n",
       "  19: 3544.0759900527946,\n",
       "  20: 3515.1435548112927,\n",
       "  21: 3590.751675880572,\n",
       "  22: 3581.2750745647268,\n",
       "  23: 3571.709838965755,\n",
       "  24: 3612.3136365148584,\n",
       "  25: 3653.1645491996956},\n",
       " '5 best features': {1: 2639.8713352484942,\n",
       "  2: 2477.2892364002055,\n",
       "  3: 2329.2693254353267,\n",
       "  4: 2444.2001877092716,\n",
       "  5: 2559.7656059973656,\n",
       "  6: 2670.1734546238335,\n",
       "  7: 2733.169846636726,\n",
       "  8: 2695.850079538556,\n",
       "  9: 2770.4547634321107,\n",
       "  10: 2813.7905655998675,\n",
       "  11: 2888.236574024927,\n",
       "  12: 2930.383540966567,\n",
       "  13: 3068.718531707928,\n",
       "  14: 3172.18961485297,\n",
       "  15: 3266.5363506486397,\n",
       "  16: 3397.709357333971,\n",
       "  17: 3479.3551412478746,\n",
       "  18: 3533.4090141300258,\n",
       "  19: 3522.4626862348127,\n",
       "  20: 3609.166190029894,\n",
       "  21: 3567.8639565114804,\n",
       "  22: 3546.635666836019,\n",
       "  23: 3581.1153341691015,\n",
       "  24: 3662.795972006956,\n",
       "  25: 3681.5745277812653}}"
      ]
     },
     "execution_count": 33,
     "metadata": {},
     "output_type": "execute_result"
    }
   ],
   "source": [
    "dic_all_errs"
   ]
  },
  {
   "cell_type": "code",
   "execution_count": 34,
   "metadata": {
    "collapsed": false,
    "scrolled": true
   },
   "outputs": [
    {
     "data": {
      "image/png": "[encoded data removed]",
      "text/plain": [
       "<matplotlib.figure.Figure at 0x7fca34e4d358>"
      ]
     },
     "metadata": {},
     "output_type": "display_data"
    }
   ],
   "source": [
    "for n, v in dic_all_errs.items():\n",
    "    x = list(v.keys())\n",
    "    y = list(v.values())\n",
    "    \n",
    "    plt.plot(x, y, label = n)\n",
    "    plt.legend(loc = 'upper left')"
   ]
  },
  {
   "cell_type": "markdown",
   "metadata": {},
   "source": [
    "## K-Fold Cross Validation"
   ]
  },
  {
   "cell_type": "markdown",
   "metadata": {},
   "source": [
    "Let's now run a cross validation for each of the features using 2 to 10 folds."
   ]
  },
  {
   "cell_type": "code",
   "execution_count": 37,
   "metadata": {
    "collapsed": false
   },
   "outputs": [],
   "source": [
    "from sklearn.model_selection import cross_val_score, KFold\n",
    "from sklearn.neighbors import KNeighborsRegressor\n",
    "\n",
    "\n",
    "col_dic = dict()\n",
    "for i in num_cars.columns.drop('price'):\n",
    "    k_dic = dict()\n",
    "    for k in range(2,11):\n",
    "        knn = KNeighborsRegressor()\n",
    "        kf = KFold(n_splits = k, shuffle = True, random_state = 1)\n",
    "        mses = cross_val_score(estimator = knn, \n",
    "                               X = num_cars[[i]], \n",
    "                               y = num_cars.price, \n",
    "                               cv = kf, \n",
    "                               scoring = 'neg_mean_squared_error')\n",
    "        abs_mses = abs(mses)\n",
    "        rmses = abs_mses**.5\n",
    "        avg_rmse = np.mean(rmses)\n",
    "        k_dic[k] = avg_rmse\n",
    "    col_dic[i] = k_dic"
   ]
  },
  {
   "cell_type": "code",
   "execution_count": 38,
   "metadata": {
    "collapsed": false
   },
   "outputs": [
    {
     "data": {
      "text/plain": [
       "{'bore': {2: 6573.014407984543,\n",
       "  3: 6647.433266373225,\n",
       "  4: 6489.22445343135,\n",
       "  5: 6840.69636459913,\n",
       "  6: 6858.12602997343,\n",
       "  7: 7301.91749737217,\n",
       "  8: 6561.098806706534,\n",
       "  9: 6483.982006907266,\n",
       "  10: 6927.9009226945755},\n",
       " 'city-mpg': {2: 4768.145531818969,\n",
       "  3: 4295.086760945355,\n",
       "  4: 4153.465084118654,\n",
       "  5: 4438.921006973339,\n",
       "  6: 4297.431571802675,\n",
       "  7: 4274.710504701393,\n",
       "  8: 4408.568456199655,\n",
       "  9: 4148.712107798843,\n",
       "  10: 4339.446669631519},\n",
       " 'compression-rate': {2: 6881.209632174353,\n",
       "  3: 6951.597842939365,\n",
       "  4: 6446.184031417209,\n",
       "  5: 6383.543784289812,\n",
       "  6: 6187.303559329691,\n",
       "  7: 6283.037663867745,\n",
       "  8: 6180.5869016149845,\n",
       "  9: 6004.412649938088,\n",
       "  10: 6076.370436358129},\n",
       " 'curb-weight': {2: 4125.697700822327,\n",
       "  3: 4171.627542724783,\n",
       "  4: 4358.499700517003,\n",
       "  5: 4319.745718978425,\n",
       "  6: 3990.085972410758,\n",
       "  7: 4262.429949490079,\n",
       "  8: 4081.5398744379136,\n",
       "  9: 3955.0106313241017,\n",
       "  10: 4230.3024745785715},\n",
       " 'engine-size': {2: 3347.5058350922454,\n",
       "  3: 3211.093979783002,\n",
       "  4: 3297.11386724669,\n",
       "  5: 3139.934222821526,\n",
       "  6: 3209.36222777709,\n",
       "  7: 3138.320937336255,\n",
       "  8: 3140.2633094830053,\n",
       "  9: 3136.6535049342656,\n",
       "  10: 3015.3811816465504},\n",
       " 'height': {2: 7573.618143368723,\n",
       "  3: 7685.454479838337,\n",
       "  4: 7741.851820880548,\n",
       "  5: 7540.253543651952,\n",
       "  6: 7615.559313279248,\n",
       "  7: 7724.930034138949,\n",
       "  8: 7617.572270884566,\n",
       "  9: 7494.526570704223,\n",
       "  10: 7636.343651127764},\n",
       " 'highway-mpg': {2: 4253.428848175031,\n",
       "  3: 4252.920754732146,\n",
       "  4: 4358.203197646158,\n",
       "  5: 4203.089780028579,\n",
       "  6: 4331.944045433304,\n",
       "  7: 4168.095922271034,\n",
       "  8: 4077.2638841635653,\n",
       "  9: 4055.1765856380734,\n",
       "  10: 4180.874800050125},\n",
       " 'horsepower': {2: 3903.9967375661545,\n",
       "  3: 3818.406009040575,\n",
       "  4: 3772.1032525570627,\n",
       "  5: 3737.1589568464783,\n",
       "  6: 3746.66891650965,\n",
       "  7: 3697.757153261983,\n",
       "  8: 3815.871263449525,\n",
       "  9: 3699.407695255164,\n",
       "  10: 3709.9932370425913},\n",
       " 'length': {2: 5661.864249714632,\n",
       "  3: 5270.367951371086,\n",
       "  4: 5231.620288998196,\n",
       "  5: 5616.438395376351,\n",
       "  6: 5296.752740748226,\n",
       "  7: 5333.736496682211,\n",
       "  8: 5260.873386318958,\n",
       "  9: 5378.146162048774,\n",
       "  10: 5300.296636994295},\n",
       " 'normalized-losses': {2: 7533.730384760895,\n",
       "  3: 7428.282622476489,\n",
       "  4: 6916.966283244482,\n",
       "  5: 7091.815236890237,\n",
       "  6: 7505.203669375067,\n",
       "  7: 6996.445891134998,\n",
       "  8: 6907.693023648924,\n",
       "  9: 7143.53975446273,\n",
       "  10: 6675.53154336414},\n",
       " 'peak-rpm': {2: 7771.34087408125,\n",
       "  3: 7254.2345282026445,\n",
       "  4: 7478.884531713465,\n",
       "  5: 7480.236841609299,\n",
       "  6: 7404.721497447713,\n",
       "  7: 7568.7775317212145,\n",
       "  8: 7416.991947184747,\n",
       "  9: 7213.57506797506,\n",
       "  10: 7349.484350142661},\n",
       " 'stroke': {2: 7830.307608629519,\n",
       "  3: 7343.2143882714545,\n",
       "  4: 7355.193918700842,\n",
       "  5: 7041.526615347837,\n",
       "  6: 7684.42081352543,\n",
       "  7: 7169.68088911703,\n",
       "  8: 7473.463132226319,\n",
       "  9: 7444.726286956442,\n",
       "  10: 7247.874553612324},\n",
       " 'wheel-base': {2: 5709.620142121619,\n",
       "  3: 5820.905894126695,\n",
       "  4: 5582.558539614284,\n",
       "  5: 5995.116196882473,\n",
       "  6: 5918.678913070474,\n",
       "  7: 5589.75868542186,\n",
       "  8: 5693.687294242236,\n",
       "  9: 5713.152428315607,\n",
       "  10: 5668.343111950992},\n",
       " 'width': {2: 4709.238199092549,\n",
       "  3: 4525.544072013955,\n",
       "  4: 4572.58025368897,\n",
       "  5: 4507.718710077322,\n",
       "  6: 4449.977995665208,\n",
       "  7: 4471.490254160663,\n",
       "  8: 4558.824335670426,\n",
       "  9: 4565.507238067601,\n",
       "  10: 4519.473182818449}}"
      ]
     },
     "execution_count": 38,
     "metadata": {},
     "output_type": "execute_result"
    }
   ],
   "source": [
    "# pd.Series(cross_avg_1).sort_values()\n",
    "col_dic"
   ]
  },
  {
   "cell_type": "code",
   "execution_count": 41,
   "metadata": {
    "collapsed": false
   },
   "outputs": [
    {
     "data": {
      "text/plain": [
       "<matplotlib.legend.Legend at 0x7fca36fda320>"
      ]
     },
     "execution_count": 41,
     "metadata": {},
     "output_type": "execute_result"
    },
    {
     "data": {
      "image/png": "[encoded data removed]",
      "text/plain": [
       "<matplotlib.figure.Figure at 0x7fca34d7bfd0>"
      ]
     },
     "metadata": {},
     "output_type": "display_data"
    }
   ],
   "source": [
    "for k, v in col_dic.items():\n",
    "    x = list(v.keys())\n",
    "    y = list(v.values())\n",
    "    \n",
    "    plt.plot(x,y, label = k)\n",
    "plt.legend(bbox_to_anchor=(1.05, 1), loc='upper left')"
   ]
  }
 ],
 "metadata": {
  "kernelspec": {
   "display_name": "Python 3",
   "language": "python",
   "name": "python3"
  },
  "language_info": {
   "codemirror_mode": {
    "name": "ipython",
    "version": 3
   },
   "file_extension": ".py",
   "mimetype": "text/x-python",
   "name": "python",
   "nbconvert_exporter": "python",
   "pygments_lexer": "ipython3",
   "version": "3.4.3"
  }
 },
 "nbformat": 4,
 "nbformat_minor": 2
}
